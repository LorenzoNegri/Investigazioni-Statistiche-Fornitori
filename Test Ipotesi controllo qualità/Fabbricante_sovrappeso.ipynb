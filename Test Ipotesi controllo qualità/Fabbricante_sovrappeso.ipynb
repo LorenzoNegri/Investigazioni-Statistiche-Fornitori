{
 "cells": [
  {
   "cell_type": "markdown",
   "metadata": {},
   "source": [
    "# Test di Ipotesi controllo Qualità in R"
   ]
  },
  {
   "cell_type": "markdown",
   "metadata": {},
   "source": [
    "## Il Fabbricante Sovrappeso"
   ]
  },
  {
   "cell_type": "markdown",
   "metadata": {},
   "source": [
    "Il fornitore di un certo componente per la produzione di un articolo, garantisce che il peso del componente viene fornito come da specifiche di contratto, e cioè che i pezzi consegnati devono essere al di sotto dei 1000g con una percentuale del 5% come margine di errore massimo."
   ]
  },
  {
   "cell_type": "markdown",
   "metadata": {},
   "source": [
    "Quindi il fornitore ad oggi afferma che il 95% delle forniture è ancora conforme al contratto e quindi al di sotto dei 1000g cad. A tale conferma il fabbricante dichiara che il peso medio di questi componenti da lui prodotti è inferiore ai 920g con una deviazione standard di circa 39g, rispettando quindi le specifiche di qualità richieste fino a 2σ."
   ]
  },
  {
   "cell_type": "markdown",
   "metadata": {},
   "source": [
    "Tuttavia nell'ultimo anno, nonostante la produzione sia rimasta inviarata in uscita, i componenti in entrata acquistati dal fornitore hanno avuto un incremento significativo. Aumento confermato dal reparto di produzione il quale afferma che: \"*i compenti difformi sono anche raddoppiati rispetto all'anno precedente*\"."
   ]
  },
  {
   "cell_type": "markdown",
   "metadata": {},
   "source": [
    "## Hypothesis Testing"
   ]
  },
  {
   "cell_type": "markdown",
   "metadata": {},
   "source": [
    "Per essere certi che il problema non sia all'interno della nostra azienda, dobbiamo determiniare se l'affemazione fatta dal fabbricante (che i componenti da lui prodotti sono almeno per il 95% sotto i 1000g) sia legittima."
   ]
  },
  {
   "cell_type": "markdown",
   "metadata": {},
   "source": [
    "Sia *p* la probabilità di avere i componenti conformi alle specifiche di contratto di fornitura. Quindi dobbiamo verificare le due ipotesi:\n",
    "- l'ipotesi nulla *H*0: *p* => 0,95 i componenti forniti sono al di sotto dei 1000g\n",
    "- oppure l'alternativa *H*1: *p* < 0,95 che l'affermazione del fabbricante è falsa"
   ]
  },
  {
   "cell_type": "markdown",
   "metadata": {},
   "source": [
    "Abbiamo preso 99 componenti a caso come campione, e raccolto i dati del peso e della conformità su un file: *dati_conformità.csv*"
   ]
  },
  {
   "cell_type": "markdown",
   "metadata": {},
   "source": [
    "Carichiamo il file e cominciamo ad analizzare:"
   ]
  },
  {
   "cell_type": "code",
   "execution_count": 1,
   "metadata": {},
   "outputs": [
    {
     "name": "stderr",
     "output_type": "stream",
     "text": [
      "Loading required package: bitops\n"
     ]
    }
   ],
   "source": [
    "library(RCurl)  # prende il file dal link\n",
    "library(knitr)  # per kable e visualizzare le tabelle in diversi formati\n",
    "library(psych) # per statistiche descrittive\n",
    "\n",
    "conf_file <- getURL(\"https://raw.githubusercontent.com/LorenzoNegri/Investigazioni-Statistiche-Fornitori/master/Test%20Ipotesi%20controllo%20qualit%C3%A0/01_dati_conformit%C3%A0.csv\")\n",
    "Conf <- read.csv(text = conf_file)"
   ]
  },
  {
   "cell_type": "code",
   "execution_count": 2,
   "metadata": {},
   "outputs": [
    {
     "data": {
      "text/plain": [
       "\n",
       "\n",
       " peso_g   peso_conforme\n",
       "-------  --------------\n",
       "    998               1\n",
       "    993               1\n",
       "    995               1\n",
       "    995               1\n",
       "    985               1\n",
       "    992               1"
      ]
     },
     "metadata": {},
     "output_type": "display_data"
    }
   ],
   "source": [
    "kable(head(Conf),format = 'pandoc')"
   ]
  },
  {
   "cell_type": "markdown",
   "metadata": {},
   "source": [
    "In alto possiamo vedere le prime del file caricato in R, con *peso_g* ad indicare il peso misurato del campione e a destra con *peso_conforme* un dato binario (0,1) ad indicarci se è *VERO* o *FALSO*."
   ]
  },
  {
   "cell_type": "markdown",
   "metadata": {},
   "source": [
    "Di seguito visualizzo delle statistiche di riassuntive."
   ]
  },
  {
   "cell_type": "code",
   "execution_count": 3,
   "metadata": {},
   "outputs": [
    {
     "data": {
      "text/html": [
       "<table>\n",
       "<caption>A psych: 2 × 13</caption>\n",
       "<thead>\n",
       "\t<tr><th></th><th scope=col>vars</th><th scope=col>n</th><th scope=col>mean</th><th scope=col>sd</th><th scope=col>median</th><th scope=col>trimmed</th><th scope=col>mad</th><th scope=col>min</th><th scope=col>max</th><th scope=col>range</th><th scope=col>skew</th><th scope=col>kurtosis</th><th scope=col>se</th></tr>\n",
       "\t<tr><th></th><th scope=col>&lt;int&gt;</th><th scope=col>&lt;dbl&gt;</th><th scope=col>&lt;dbl&gt;</th><th scope=col>&lt;dbl&gt;</th><th scope=col>&lt;dbl&gt;</th><th scope=col>&lt;dbl&gt;</th><th scope=col>&lt;dbl&gt;</th><th scope=col>&lt;dbl&gt;</th><th scope=col>&lt;dbl&gt;</th><th scope=col>&lt;dbl&gt;</th><th scope=col>&lt;dbl&gt;</th><th scope=col>&lt;dbl&gt;</th><th scope=col>&lt;dbl&gt;</th></tr>\n",
       "</thead>\n",
       "<tbody>\n",
       "\t<tr><th scope=row>peso_g</th><td>1</td><td>99</td><td>937.7878788</td><td>48.7401006</td><td>929</td><td>938.2222</td><td>66.717</td><td>856</td><td>1015</td><td>159</td><td> 0.04630267</td><td>-1.544774</td><td>4.89856442</td></tr>\n",
       "\t<tr><th scope=row>peso_conforme</th><td>2</td><td>99</td><td>  0.9191919</td><td> 0.2739271</td><td>  1</td><td>  1.0000</td><td> 0.000</td><td>  0</td><td>   1</td><td>  1</td><td>-3.02969370</td><td> 7.252608</td><td>0.02753071</td></tr>\n",
       "</tbody>\n",
       "</table>\n"
      ],
      "text/latex": [
       "A psych: 2 × 13\n",
       "\\begin{tabular}{r|lllllllllllll}\n",
       "  & vars & n & mean & sd & median & trimmed & mad & min & max & range & skew & kurtosis & se\\\\\n",
       "  & <int> & <dbl> & <dbl> & <dbl> & <dbl> & <dbl> & <dbl> & <dbl> & <dbl> & <dbl> & <dbl> & <dbl> & <dbl>\\\\\n",
       "\\hline\n",
       "\tpeso\\_g & 1 & 99 & 937.7878788 & 48.7401006 & 929 & 938.2222 & 66.717 & 856 & 1015 & 159 &  0.04630267 & -1.544774 & 4.89856442\\\\\n",
       "\tpeso\\_conforme & 2 & 99 &   0.9191919 &  0.2739271 &   1 &   1.0000 &  0.000 &   0 &    1 &   1 & -3.02969370 &  7.252608 & 0.02753071\\\\\n",
       "\\end{tabular}\n"
      ],
      "text/markdown": [
       "\n",
       "A psych: 2 × 13\n",
       "\n",
       "| <!--/--> | vars &lt;int&gt; | n &lt;dbl&gt; | mean &lt;dbl&gt; | sd &lt;dbl&gt; | median &lt;dbl&gt; | trimmed &lt;dbl&gt; | mad &lt;dbl&gt; | min &lt;dbl&gt; | max &lt;dbl&gt; | range &lt;dbl&gt; | skew &lt;dbl&gt; | kurtosis &lt;dbl&gt; | se &lt;dbl&gt; |\n",
       "|---|---|---|---|---|---|---|---|---|---|---|---|---|---|\n",
       "| peso_g | 1 | 99 | 937.7878788 | 48.7401006 | 929 | 938.2222 | 66.717 | 856 | 1015 | 159 |  0.04630267 | -1.544774 | 4.89856442 |\n",
       "| peso_conforme | 2 | 99 |   0.9191919 |  0.2739271 |   1 |   1.0000 |  0.000 |   0 |    1 |   1 | -3.02969370 |  7.252608 | 0.02753071 |\n",
       "\n"
      ],
      "text/plain": [
       "              vars n  mean        sd         median trimmed  mad    min max \n",
       "peso_g        1    99 937.7878788 48.7401006 929    938.2222 66.717 856 1015\n",
       "peso_conforme 2    99   0.9191919  0.2739271   1      1.0000  0.000   0    1\n",
       "              range skew        kurtosis  se        \n",
       "peso_g        159    0.04630267 -1.544774 4.89856442\n",
       "peso_conforme   1   -3.02969370  7.252608 0.02753071"
      ]
     },
     "metadata": {},
     "output_type": "display_data"
    }
   ],
   "source": [
    "stats <- describe(Conf)\n",
    "stats"
   ]
  },
  {
   "cell_type": "markdown",
   "metadata": {},
   "source": [
    "Nel nostro campione possiamo vedere che la media del peso dei componenti è di 938g con una deviazione standard di 49g. E i pezzi conformi alle specifiche risultano essere il 92%. Lo skewness di 0.0463 indica che l'assimetria della distribuzione dei dati per il peso dei campioni è normale (centrale)."
   ]
  },
  {
   "cell_type": "markdown",
   "metadata": {},
   "source": [
    "A prima vista pare che le nostre supposizioni riguardo la falsità delle affermazioni del fabbricante siano fondate, tuttavia dobbiamo ancora dimostrarlo."
   ]
  },
  {
   "cell_type": "markdown",
   "metadata": {},
   "source": [
    "Di seguito vediamo che alcuni componenti pesano di più di 1000g, e dobbiamo ora dimostrare che tale numero in eccesso sia dovuto al caso oppure che il campione rispecchia la popolazione della fornitura."
   ]
  },
  {
   "cell_type": "code",
   "execution_count": 4,
   "metadata": {},
   "outputs": [
    {
     "data": {
      "image/png": "[encoded data removed]",
      "text/plain": [
       "plot without title"
      ]
     },
     "metadata": {},
     "output_type": "display_data"
    }
   ],
   "source": [
    "peso_g = Conf[,1]\n",
    "hConf = dnorm(peso_g, mean = stats[1,3], sd = stats[1,4])\n",
    "plot(peso_g, hConf)\n",
    "abline(v=1000, col=\"red\")"
   ]
  },
  {
   "cell_type": "markdown",
   "metadata": {},
   "source": [
    "## Test Statistico sulle proporzioni"
   ]
  },
  {
   "cell_type": "markdown",
   "metadata": {},
   "source": [
    "Il campione è normalmente distribuito per cui possiamo procedere con il test statistico."
   ]
  },
  {
   "cell_type": "markdown",
   "metadata": {},
   "source": [
    "Calcoliamo prima il livello di significatività α:"
   ]
  },
  {
   "cell_type": "code",
   "execution_count": 5,
   "metadata": {},
   "outputs": [
    {
     "name": "stdout",
     "output_type": "stream",
     "text": [
      "Il livello di significatività è:  -1.661"
     ]
    }
   ],
   "source": [
    "# livello di significatività per test a una coda\n",
    "n = stats[2,2]\n",
    "alpha = 0.05 # con un livello probabilmente significativo (0.01 sarebbe stato alatamente significativo)\n",
    "z_alpha = qt(alpha, df = n-1); cat(\"Il livello di significatività è: \", round(z_alpha, 3))"
   ]
  },
  {
   "cell_type": "markdown",
   "metadata": {},
   "source": [
    "Dato che in questo caso stiamo effettuando un test con le proporzioni e non con le medie, la formula per il nostro Z-score sara:"
   ]
  },
  {
   "cell_type": "markdown",
   "metadata": {},
   "source": [
    "<img src=\"https://saylordotorg.github.io/text_introductory-statistics/section_12/712af0acd2af8708bb893a1ac9293858.jpg\">"
   ]
  },
  {
   "cell_type": "markdown",
   "metadata": {},
   "source": [
    "Dove ***pbar*** nel nostro caso è la proporzione di campioni conformi al peso; ***p0*** è la proporzione di campioni conformi al peso secondo quanto affermato dal fornitore; ***n*** è l'ampiezza campionaria e ***q*** = (1-***p***)."
   ]
  },
  {
   "cell_type": "code",
   "execution_count": 6,
   "metadata": {},
   "outputs": [],
   "source": [
    "p0 = 0.95 # la percentuale affermata dal fornitore\n",
    "q = 1-p0"
   ]
  },
  {
   "cell_type": "code",
   "execution_count": 7,
   "metadata": {},
   "outputs": [
    {
     "name": "stdout",
     "output_type": "stream",
     "text": [
      "Lo Z-score è:  -1.41"
     ]
    }
   ],
   "source": [
    "pbar = stats[2,3] # prelevo la % delle conformità dalle statistiche precedenti\n",
    "Z = (pbar - p0)/sqrt((p0*q)/n); cat(\"Lo Z-score è: \", (round(Z,2)))"
   ]
  },
  {
   "cell_type": "markdown",
   "metadata": {},
   "source": [
    "Così pare che l'affermazione del fornitore sia legittima poiché il valore Z non è significativo essendo più alto rispetto ad α, e rientra nella soglia di accettazione dell'ipotesi nulla *H*0."
   ]
  },
  {
   "cell_type": "markdown",
   "metadata": {},
   "source": [
    "## Test Statistico sulle medie"
   ]
  },
  {
   "cell_type": "markdown",
   "metadata": {},
   "source": [
    "Proviamo ora a verificare se quanto afferma il fabbricante del componente riguardo alla media del peso sia legittima oppure no.\n",
    "Quindi dobbiamo determinare le ipotesi:\n",
    "- l'ipotesi nulla *H*0: *μ* = 920g \n",
    "- oppure che *H*1: *μ* ≠ 920g"
   ]
  },
  {
   "cell_type": "markdown",
   "metadata": {},
   "source": [
    "In questo caso abbiamo un test a due code e il livello di significatività avrà valori: -1,96 e +1,96, e utilizzeremo la formula per i test sulle medie:"
   ]
  },
  {
   "cell_type": "markdown",
   "metadata": {},
   "source": [
    "<img src=\"https://study.com/cimages/multimages/16/zscoreformulaone.png\">"
   ]
  },
  {
   "cell_type": "code",
   "execution_count": 8,
   "metadata": {},
   "outputs": [
    {
     "name": "stdout",
     "output_type": "stream",
     "text": [
      "Lo Z-score è:  3.63"
     ]
    }
   ],
   "source": [
    "xbar = stats[1,3] # media rilevata dai campioni\n",
    "μ = 920 # media dichiarata dal fabbricante\n",
    "σ = stats[1,4] # scarto quadratico medio del peso_g\n",
    "Z = (xbar - μ)/(σ /sqrt(n)); cat(\"Lo Z-score è: \", (round(Z,2)))"
   ]
  },
  {
   "cell_type": "markdown",
   "metadata": {},
   "source": [
    "Il risultato è ben oltre i limiti (-1,96 e +1,96). Persino con i valori dei livelli di significatività per un alpha di 0.01 che indicano altamente significativo un range oltre: -2,58 e +2,58. Quindi, poiché il valore Z è oltre la soglia del +2,58, rifiutiamo l'ipotesi nulla H0, e possiamo affermare che le forniture non hanno un peso medio di 920g come dichiarato dal fabbricante."
   ]
  },
  {
   "cell_type": "markdown",
   "metadata": {},
   "source": [
    "## Conclusioni"
   ]
  },
  {
   "cell_type": "markdown",
   "metadata": {},
   "source": [
    "Per spiegare l'aumento dei componenti richiesti per l'assemblaggio, si consiglia di effettuare ulteriori verifiche in magazzino e nel reparto produzione.\n",
    "Si consiglia anche di richiedere al fornitore un ulteriore analisi su pezzi da lui fabbricati poiché le metriche delle forniture non corrispondono ai dati dichiarati dal fabbricante."
   ]
  }
 ],
 "metadata": {
  "kernelspec": {
   "display_name": "R",
   "language": "R",
   "name": "ir"
  },
  "language_info": {
   "codemirror_mode": "r",
   "file_extension": ".r",
   "mimetype": "text/x-r-source",
   "name": "R",
   "pygments_lexer": "r",
   "version": "3.6.1"
  }
 },
 "nbformat": 4,
 "nbformat_minor": 4
}
