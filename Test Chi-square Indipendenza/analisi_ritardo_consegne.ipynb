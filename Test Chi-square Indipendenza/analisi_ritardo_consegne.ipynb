{
 "cells": [
  {
   "cell_type": "markdown",
   "metadata": {},
   "source": [
    "# Chi-square Test di indipendenza in R"
   ]
  },
  {
   "cell_type": "markdown",
   "metadata": {},
   "source": [
    "## Analisi Ritardo consegne fornitori vs. Ritardo sui pagamenti forniture"
   ]
  },
  {
   "cell_type": "markdown",
   "metadata": {},
   "source": [
    "L'azienda è interessata a sapere se l'eventuale ritardo dei pagamenti su alcune forniture influisce sul ritardo delle consegne da parte di alcuni fornitori."
   ]
  },
  {
   "cell_type": "markdown",
   "metadata": {},
   "source": [
    "In questo caso possima utilizzare un test Chi-quadro. Una decisione verrà presa riguardo alle due variabili (*ritardo pagamenti* e *ritardo consegne*) se esse saranno dipendenti in base ai dati raccolti. I dati sono stati immagazzinati in un file csv: *dati_pagamento_fornitori.csv*\n",
    "\n",
    "Le singole variabili indicano:\n",
    "\n",
    " - ***fornitore_ID*** : indica l'identificativo del fornitore\n",
    " - ***eta_*** : sono il numero di anni che il fornitore collabora con l'azienza\n",
    " - ***valore_annuale_K*** : è il valore medio annuale di acquisto espresso in K(migliaia) di €\n",
    " - ***valore_medio_componente*** : valore medio per componente acquistato in €\n",
    " - ***num_acquisti*** : il numero totale di fatture emesse dall'inizo della collaborazione\n",
    " - ***importanza*** : importanza strategica del fornitore \"A\"=alata, \"B\"=media e \"C\"=bassa\n",
    " - ***consegne_puntuali*** : \"Sempre\", \"Mai\" e \"Spesso\" = \"a volte sì a volte no\"\n",
    " - ***pagamenti_puntuali*** : \"Contenzioso\", \"Sempre\", \"A volte\", \"Mai\" = \"sempre in ritardo sui pagamenti\"\n",
    " - ***media_gg_ritardo_pagamenti*** : la media del numero di giorni di ritardo sui pagamenti per fornitore"
   ]
  },
  {
   "cell_type": "code",
   "execution_count": 9,
   "metadata": {},
   "outputs": [],
   "source": [
    "# comincio ad inizializzare le librerie e imporare il file\n",
    "library(RCurl)  # prende il file dal link\n",
    "\n",
    "dat_file <- getURL(\"https://raw.githubusercontent.com/LorenzoNegri/Investigazioni-Statistiche-Fornitori/master/Test%20Chi-square%20Indipendenza/dati_pagamento_fornitori.csv\")\n",
    "Dat <- read.csv(text = dat_file)"
   ]
  },
  {
   "cell_type": "code",
   "execution_count": 10,
   "metadata": {},
   "outputs": [
    {
     "data": {
      "text/html": [
       "<table>\n",
       "<caption>A data.frame: 6 × 9</caption>\n",
       "<thead>\n",
       "\t<tr><th scope=col>fornitore_ID</th><th scope=col>eta_</th><th scope=col>valore_annuale_K</th><th scope=col>valore_medio_componente</th><th scope=col>num_acquisti</th><th scope=col>importanza</th><th scope=col>consegne_puntuali</th><th scope=col>pagamenti_puntuali</th><th scope=col>media_gg_ritardo_pagamenti</th></tr>\n",
       "\t<tr><th scope=col>&lt;int&gt;</th><th scope=col>&lt;dbl&gt;</th><th scope=col>&lt;dbl&gt;</th><th scope=col>&lt;dbl&gt;</th><th scope=col>&lt;int&gt;</th><th scope=col>&lt;fct&gt;</th><th scope=col>&lt;fct&gt;</th><th scope=col>&lt;fct&gt;</th><th scope=col>&lt;int&gt;</th></tr>\n",
       "</thead>\n",
       "<tbody>\n",
       "\t<tr><td> 28920</td><td> 3</td><td>18.50</td><td>2.09</td><td> 92</td><td>A</td><td>Spesso</td><td>Sempre </td><td>10</td></tr>\n",
       "\t<tr><td>367309</td><td>11</td><td>39.00</td><td>0.61</td><td>104</td><td>A</td><td>Mai   </td><td>Mai    </td><td>89</td></tr>\n",
       "\t<tr><td>163622</td><td> 6</td><td>36.00</td><td>1.64</td><td> 87</td><td>C</td><td>Mai   </td><td>A volte</td><td>NA</td></tr>\n",
       "\t<tr><td>185887</td><td> 5</td><td>25.07</td><td>  NA</td><td> NA</td><td>C</td><td>Mai   </td><td>Sempre </td><td> 8</td></tr>\n",
       "\t<tr><td>714466</td><td>11</td><td>33.33</td><td>1.35</td><td> 35</td><td>B</td><td>Spesso</td><td>Sempre </td><td> 9</td></tr>\n",
       "\t<tr><td>533200</td><td> 6</td><td>36.00</td><td>1.38</td><td> 64</td><td>B</td><td>Spesso</td><td>Sempre </td><td> 4</td></tr>\n",
       "</tbody>\n",
       "</table>\n"
      ],
      "text/latex": [
       "A data.frame: 6 × 9\n",
       "\\begin{tabular}{r|lllllllll}\n",
       " fornitore\\_ID & eta\\_ & valore\\_annuale\\_K & valore\\_medio\\_componente & num\\_acquisti & importanza & consegne\\_puntuali & pagamenti\\_puntuali & media\\_gg\\_ritardo\\_pagamenti\\\\\n",
       " <int> & <dbl> & <dbl> & <dbl> & <int> & <fct> & <fct> & <fct> & <int>\\\\\n",
       "\\hline\n",
       "\t  28920 &  3 & 18.50 & 2.09 &  92 & A & Spesso & Sempre  & 10\\\\\n",
       "\t 367309 & 11 & 39.00 & 0.61 & 104 & A & Mai    & Mai     & 89\\\\\n",
       "\t 163622 &  6 & 36.00 & 1.64 &  87 & C & Mai    & A volte & NA\\\\\n",
       "\t 185887 &  5 & 25.07 &   NA &  NA & C & Mai    & Sempre  &  8\\\\\n",
       "\t 714466 & 11 & 33.33 & 1.35 &  35 & B & Spesso & Sempre  &  9\\\\\n",
       "\t 533200 &  6 & 36.00 & 1.38 &  64 & B & Spesso & Sempre  &  4\\\\\n",
       "\\end{tabular}\n"
      ],
      "text/markdown": [
       "\n",
       "A data.frame: 6 × 9\n",
       "\n",
       "| fornitore_ID &lt;int&gt; | eta_ &lt;dbl&gt; | valore_annuale_K &lt;dbl&gt; | valore_medio_componente &lt;dbl&gt; | num_acquisti &lt;int&gt; | importanza &lt;fct&gt; | consegne_puntuali &lt;fct&gt; | pagamenti_puntuali &lt;fct&gt; | media_gg_ritardo_pagamenti &lt;int&gt; |\n",
       "|---|---|---|---|---|---|---|---|---|\n",
       "|  28920 |  3 | 18.50 | 2.09 |  92 | A | Spesso | Sempre  | 10 |\n",
       "| 367309 | 11 | 39.00 | 0.61 | 104 | A | Mai    | Mai     | 89 |\n",
       "| 163622 |  6 | 36.00 | 1.64 |  87 | C | Mai    | A volte | NA |\n",
       "| 185887 |  5 | 25.07 |   NA |  NA | C | Mai    | Sempre  |  8 |\n",
       "| 714466 | 11 | 33.33 | 1.35 |  35 | B | Spesso | Sempre  |  9 |\n",
       "| 533200 |  6 | 36.00 | 1.38 |  64 | B | Spesso | Sempre  |  4 |\n",
       "\n"
      ],
      "text/plain": [
       "  fornitore_ID eta_ valore_annuale_K valore_medio_componente num_acquisti\n",
       "1  28920        3   18.50            2.09                     92         \n",
       "2 367309       11   39.00            0.61                    104         \n",
       "3 163622        6   36.00            1.64                     87         \n",
       "4 185887        5   25.07              NA                     NA         \n",
       "5 714466       11   33.33            1.35                     35         \n",
       "6 533200        6   36.00            1.38                     64         \n",
       "  importanza consegne_puntuali pagamenti_puntuali media_gg_ritardo_pagamenti\n",
       "1 A          Spesso            Sempre             10                        \n",
       "2 A          Mai               Mai                89                        \n",
       "3 C          Mai               A volte            NA                        \n",
       "4 C          Mai               Sempre              8                        \n",
       "5 B          Spesso            Sempre              9                        \n",
       "6 B          Spesso            Sempre              4                        "
      ]
     },
     "metadata": {},
     "output_type": "display_data"
    }
   ],
   "source": [
    "head(Dat)"
   ]
  },
  {
   "cell_type": "code",
   "execution_count": 11,
   "metadata": {},
   "outputs": [
    {
     "data": {
      "text/plain": [
       "  fornitore_ID         eta_        valore_annuale_K valore_medio_componente\n",
       " Min.   :   895   Min.   : 1.000   Min.   : 9.33    Min.   : 0.150         \n",
       " 1st Qu.:210294   1st Qu.: 5.000   1st Qu.:17.57    1st Qu.: 0.420         \n",
       " Median :475427   Median : 9.000   Median :24.80    Median : 0.830         \n",
       " Mean   :474796   Mean   : 9.826   Mean   :25.47    Mean   : 1.478         \n",
       " 3rd Qu.:725401   3rd Qu.:14.000   3rd Qu.:34.04    3rd Qu.: 1.460         \n",
       " Max.   :995992   Max.   :21.333   Max.   :46.40    Max.   :15.480         \n",
       "                                   NA's   :1        NA's   :46             \n",
       "  num_acquisti    importanza consegne_puntuali   pagamenti_puntuali\n",
       " Min.   : 35.00   A: 39      Mai   : 24        A volte    : 19     \n",
       " 1st Qu.: 66.00   B:147      Sempre:115        Contenzioso: 11     \n",
       " Median : 72.50   C: 51      Spesso: 98        Mai        : 18     \n",
       " Mean   : 74.15                                Sempre     :189     \n",
       " 3rd Qu.: 80.00                                                    \n",
       " Max.   :104.00                                                    \n",
       " NA's   :45                                                        \n",
       " media_gg_ritardo_pagamenti\n",
       " Min.   : 0.00             \n",
       " 1st Qu.: 4.00             \n",
       " Median : 8.00             \n",
       " Mean   :18.25             \n",
       " 3rd Qu.:13.00             \n",
       " Max.   :97.00             \n",
       " NA's   :28                "
      ]
     },
     "metadata": {},
     "output_type": "display_data"
    }
   ],
   "source": [
    "summary(Dat) #statistiche descrittive di base"
   ]
  },
  {
   "cell_type": "markdown",
   "metadata": {},
   "source": [
    "In alto possiamo vedere delle statistiche riepilogative per ogni variabile."
   ]
  },
  {
   "cell_type": "markdown",
   "metadata": {},
   "source": [
    "## Test Chi-quadro"
   ]
  },
  {
   "cell_type": "markdown",
   "metadata": {},
   "source": [
    "Lo scopo della ricerca è capire se le *consegne puntuali* siano indipendenti dai *pagamenti puntuali*, se così non fosse, l'azienda potrebbe prendere decisioni in merito. La formula per il test è la seguente:"
   ]
  },
  {
   "cell_type": "markdown",
   "metadata": {},
   "source": [
    "<img src=\"https://s3-ap-south-1.amazonaws.com/av-blog-media/wp-content/uploads/2019/05/34.png\">"
   ]
  },
  {
   "cell_type": "markdown",
   "metadata": {},
   "source": [
    "In R il test avviene in modo semplice, come prima cosa elaboro una tabella a matrice con le due variabili a cui siamo interessati. In questo modo possiamo sapere quante volte in una condizione è avventua l'altra:"
   ]
  },
  {
   "cell_type": "code",
   "execution_count": 12,
   "metadata": {},
   "outputs": [
    {
     "data": {
      "text/plain": [
       "             \n",
       "              Mai Sempre Spesso\n",
       "  A volte       3     12      4\n",
       "  Contenzioso   1      7      3\n",
       "  Mai           2      9      7\n",
       "  Sempre       18     87     84"
      ]
     },
     "metadata": {},
     "output_type": "display_data"
    }
   ],
   "source": [
    "tbl = table(Dat$pagamenti_puntuali, Dat$consegne_puntuali)\n",
    "tbl"
   ]
  },
  {
   "cell_type": "markdown",
   "metadata": {},
   "source": [
    "Nella tabella a sx vediamo i valori per i **pagamenti puntuali** in relazione in alto alle **consegne puntuali**."
   ]
  },
  {
   "cell_type": "code",
   "execution_count": 17,
   "metadata": {},
   "outputs": [
    {
     "name": "stderr",
     "output_type": "stream",
     "text": [
      "Warning message in chisq.test(tbl):\n",
      "\"Chi-squared approximation may be incorrect\""
     ]
    },
    {
     "data": {
      "text/plain": [
       "\n",
       "\tPearson's Chi-squared test\n",
       "\n",
       "data:  tbl\n",
       "X-squared = 5.1889, df = 6, p-value = 0.5198\n"
      ]
     },
     "metadata": {},
     "output_type": "display_data"
    }
   ],
   "source": [
    "# posso eseguire il chi-quadro test con la funzione\n",
    "chisq.test(tbl)"
   ]
  },
  {
   "cell_type": "code",
   "execution_count": 19,
   "metadata": {},
   "outputs": [
    {
     "data": {
      "text/plain": [
       "\n",
       "\tPearson's Chi-squared test with simulated p-value (based on 2000\n",
       "\treplicates)\n",
       "\n",
       "data:  tbl\n",
       "X-squared = 5.1889, df = NA, p-value = 0.5082\n"
      ]
     },
     "metadata": {},
     "output_type": "display_data"
    }
   ],
   "source": [
    "chisq.test(tbl, simulate.p.value = TRUE)"
   ]
  },
  {
   "cell_type": "markdown",
   "metadata": {},
   "source": [
    "Il p-value (>> di 0.05) indica che non c'è alcuna dipidenza tra le due variabili; ***i ritardi sulle consegne non dipendono dai ritardi sui pagamenti***."
   ]
  },
  {
   "cell_type": "markdown",
   "metadata": {},
   "source": [
    "## Analisi Correlazioni"
   ]
  },
  {
   "cell_type": "markdown",
   "metadata": {},
   "source": [
    "Vediamo ora se esiste qualche correlazione tra le variabili. Comincio con preparare i dati in matrice escludendo le variabili categoriche e quella del ID fornitore:"
   ]
  },
  {
   "cell_type": "code",
   "execution_count": 79,
   "metadata": {},
   "outputs": [
    {
     "data": {
      "text/html": [
       "<table>\n",
       "<caption>A matrix: 6 × 5 of type dbl</caption>\n",
       "<thead>\n",
       "\t<tr><th scope=col>eta_</th><th scope=col>valore_annuale_K</th><th scope=col>valore_medio_componente</th><th scope=col>num_acquisti</th><th scope=col>media_gg_ritardo_pagamenti</th></tr>\n",
       "</thead>\n",
       "<tbody>\n",
       "\t<tr><td> 3</td><td>18.50</td><td>2.09</td><td> 92</td><td>10</td></tr>\n",
       "\t<tr><td>11</td><td>39.00</td><td>0.61</td><td>104</td><td>89</td></tr>\n",
       "\t<tr><td> 6</td><td>36.00</td><td>1.64</td><td> 87</td><td>NA</td></tr>\n",
       "\t<tr><td> 5</td><td>25.07</td><td>  NA</td><td> NA</td><td> 8</td></tr>\n",
       "\t<tr><td>11</td><td>33.33</td><td>1.35</td><td> 35</td><td> 9</td></tr>\n",
       "\t<tr><td> 6</td><td>36.00</td><td>1.38</td><td> 64</td><td> 4</td></tr>\n",
       "</tbody>\n",
       "</table>\n"
      ],
      "text/latex": [
       "A matrix: 6 × 5 of type dbl\n",
       "\\begin{tabular}{lllll}\n",
       " eta\\_ & valore\\_annuale\\_K & valore\\_medio\\_componente & num\\_acquisti & media\\_gg\\_ritardo\\_pagamenti\\\\\n",
       "\\hline\n",
       "\t  3 & 18.50 & 2.09 &  92 & 10\\\\\n",
       "\t 11 & 39.00 & 0.61 & 104 & 89\\\\\n",
       "\t  6 & 36.00 & 1.64 &  87 & NA\\\\\n",
       "\t  5 & 25.07 &   NA &  NA &  8\\\\\n",
       "\t 11 & 33.33 & 1.35 &  35 &  9\\\\\n",
       "\t  6 & 36.00 & 1.38 &  64 &  4\\\\\n",
       "\\end{tabular}\n"
      ],
      "text/markdown": [
       "\n",
       "A matrix: 6 × 5 of type dbl\n",
       "\n",
       "| eta_ | valore_annuale_K | valore_medio_componente | num_acquisti | media_gg_ritardo_pagamenti |\n",
       "|---|---|---|---|---|\n",
       "|  3 | 18.50 | 2.09 |  92 | 10 |\n",
       "| 11 | 39.00 | 0.61 | 104 | 89 |\n",
       "|  6 | 36.00 | 1.64 |  87 | NA |\n",
       "|  5 | 25.07 |   NA |  NA |  8 |\n",
       "| 11 | 33.33 | 1.35 |  35 |  9 |\n",
       "|  6 | 36.00 | 1.38 |  64 |  4 |\n",
       "\n"
      ],
      "text/plain": [
       "     eta_ valore_annuale_K valore_medio_componente num_acquisti\n",
       "[1,]  3   18.50            2.09                     92         \n",
       "[2,] 11   39.00            0.61                    104         \n",
       "[3,]  6   36.00            1.64                     87         \n",
       "[4,]  5   25.07              NA                     NA         \n",
       "[5,] 11   33.33            1.35                     35         \n",
       "[6,]  6   36.00            1.38                     64         \n",
       "     media_gg_ritardo_pagamenti\n",
       "[1,] 10                        \n",
       "[2,] 89                        \n",
       "[3,] NA                        \n",
       "[4,]  8                        \n",
       "[5,]  9                        \n",
       "[6,]  4                        "
      ]
     },
     "metadata": {},
     "output_type": "display_data"
    }
   ],
   "source": [
    "dat_mx = as.matrix(Dat[, -which(names(Dat) %in% c(\"fornitore_ID\",\"importanza\", \"consegne_puntuali\", \"pagamenti_puntuali\"))])\n",
    "head(dat_mx) # visualizzo solo le prime 6 righe"
   ]
  },
  {
   "cell_type": "markdown",
   "metadata": {},
   "source": [
    "Eseguo un test sulle correlazioni tra le variabili numeriche che abbiamo, cercando di capire se qualcuna possa essere correlata al numero medio di giorni di ritardo per i pagamenti delle fatture."
   ]
  },
  {
   "cell_type": "code",
   "execution_count": 74,
   "metadata": {},
   "outputs": [
    {
     "data": {
      "text/html": [
       "<table>\n",
       "<caption>A matrix: 5 × 5 of type dbl</caption>\n",
       "<thead>\n",
       "\t<tr><th></th><th scope=col>eta_</th><th scope=col>valore_annuale_K</th><th scope=col>valore_medio_componente</th><th scope=col>num_acquisti</th><th scope=col>media_gg_ritardo_pagamenti</th></tr>\n",
       "</thead>\n",
       "<tbody>\n",
       "\t<tr><th scope=row>eta_</th><td> 1.00000000</td><td>-0.03998775</td><td>-0.60307562</td><td> 0.11704018</td><td> 0.08590069</td></tr>\n",
       "\t<tr><th scope=row>valore_annuale_K</th><td>-0.03998775</td><td> 1.00000000</td><td> 0.29288602</td><td> 0.03623984</td><td> 0.13945434</td></tr>\n",
       "\t<tr><th scope=row>valore_medio_componente</th><td>-0.60307562</td><td> 0.29288602</td><td> 1.00000000</td><td>-0.08721461</td><td>-0.06241399</td></tr>\n",
       "\t<tr><th scope=row>num_acquisti</th><td> 0.11704018</td><td> 0.03623984</td><td>-0.08721461</td><td> 1.00000000</td><td> 0.08838280</td></tr>\n",
       "\t<tr><th scope=row>media_gg_ritardo_pagamenti</th><td> 0.08590069</td><td> 0.13945434</td><td>-0.06241399</td><td> 0.08838280</td><td> 1.00000000</td></tr>\n",
       "</tbody>\n",
       "</table>\n"
      ],
      "text/latex": [
       "A matrix: 5 × 5 of type dbl\n",
       "\\begin{tabular}{r|lllll}\n",
       "  & eta\\_ & valore\\_annuale\\_K & valore\\_medio\\_componente & num\\_acquisti & media\\_gg\\_ritardo\\_pagamenti\\\\\n",
       "\\hline\n",
       "\teta\\_ &  1.00000000 & -0.03998775 & -0.60307562 &  0.11704018 &  0.08590069\\\\\n",
       "\tvalore\\_annuale\\_K & -0.03998775 &  1.00000000 &  0.29288602 &  0.03623984 &  0.13945434\\\\\n",
       "\tvalore\\_medio\\_componente & -0.60307562 &  0.29288602 &  1.00000000 & -0.08721461 & -0.06241399\\\\\n",
       "\tnum\\_acquisti &  0.11704018 &  0.03623984 & -0.08721461 &  1.00000000 &  0.08838280\\\\\n",
       "\tmedia\\_gg\\_ritardo\\_pagamenti &  0.08590069 &  0.13945434 & -0.06241399 &  0.08838280 &  1.00000000\\\\\n",
       "\\end{tabular}\n"
      ],
      "text/markdown": [
       "\n",
       "A matrix: 5 × 5 of type dbl\n",
       "\n",
       "| <!--/--> | eta_ | valore_annuale_K | valore_medio_componente | num_acquisti | media_gg_ritardo_pagamenti |\n",
       "|---|---|---|---|---|---|\n",
       "| eta_ |  1.00000000 | -0.03998775 | -0.60307562 |  0.11704018 |  0.08590069 |\n",
       "| valore_annuale_K | -0.03998775 |  1.00000000 |  0.29288602 |  0.03623984 |  0.13945434 |\n",
       "| valore_medio_componente | -0.60307562 |  0.29288602 |  1.00000000 | -0.08721461 | -0.06241399 |\n",
       "| num_acquisti |  0.11704018 |  0.03623984 | -0.08721461 |  1.00000000 |  0.08838280 |\n",
       "| media_gg_ritardo_pagamenti |  0.08590069 |  0.13945434 | -0.06241399 |  0.08838280 |  1.00000000 |\n",
       "\n"
      ],
      "text/plain": [
       "                           eta_        valore_annuale_K valore_medio_componente\n",
       "eta_                        1.00000000 -0.03998775      -0.60307562            \n",
       "valore_annuale_K           -0.03998775  1.00000000       0.29288602            \n",
       "valore_medio_componente    -0.60307562  0.29288602       1.00000000            \n",
       "num_acquisti                0.11704018  0.03623984      -0.08721461            \n",
       "media_gg_ritardo_pagamenti  0.08590069  0.13945434      -0.06241399            \n",
       "                           num_acquisti media_gg_ritardo_pagamenti\n",
       "eta_                        0.11704018   0.08590069               \n",
       "valore_annuale_K            0.03623984   0.13945434               \n",
       "valore_medio_componente    -0.08721461  -0.06241399               \n",
       "num_acquisti                1.00000000   0.08838280               \n",
       "media_gg_ritardo_pagamenti  0.08838280   1.00000000               "
      ]
     },
     "metadata": {},
     "output_type": "display_data"
    }
   ],
   "source": [
    "cor_p = cor(dat_mx, method = c(\"pearson\", \"kendall\", \"spearman\"),use = \"complete.obs\")\n",
    "cor_p"
   ]
  },
  {
   "cell_type": "markdown",
   "metadata": {},
   "source": [
    "A prima vista si nota una correlazione negativa tra il valore medio dei compenenti acquistati e il numero degli anni in cui il fabbricante è fornitore dell'azienda. Vediamo di capire meglio con un grafico del netwrok di correlazioni:"
   ]
  },
  {
   "cell_type": "code",
   "execution_count": 63,
   "metadata": {},
   "outputs": [
    {
     "name": "stderr",
     "output_type": "stream",
     "text": [
      "-- \u001b[1mAttaching packages\u001b[22m --------------------------------------- tidyverse 1.3.0 --\n",
      "\u001b[32mv\u001b[39m \u001b[34mggplot2\u001b[39m 3.2.1     \u001b[32mv\u001b[39m \u001b[34mpurrr  \u001b[39m 0.3.3\n",
      "\u001b[32mv\u001b[39m \u001b[34mtibble \u001b[39m 2.1.3     \u001b[32mv\u001b[39m \u001b[34mdplyr  \u001b[39m 0.8.3\n",
      "\u001b[32mv\u001b[39m \u001b[34mtidyr  \u001b[39m 1.0.0     \u001b[32mv\u001b[39m \u001b[34mstringr\u001b[39m 1.4.0\n",
      "\u001b[32mv\u001b[39m \u001b[34mreadr  \u001b[39m 1.3.1     \u001b[32mv\u001b[39m \u001b[34mforcats\u001b[39m 0.4.0\n",
      "-- \u001b[1mConflicts\u001b[22m ------------------------------------------ tidyverse_conflicts() --\n",
      "\u001b[31mx\u001b[39m \u001b[34mtidyr\u001b[39m::\u001b[32mcomplete()\u001b[39m masks \u001b[34mRCurl\u001b[39m::complete()\n",
      "\u001b[31mx\u001b[39m \u001b[34mdplyr\u001b[39m::\u001b[32mfilter()\u001b[39m   masks \u001b[34mstats\u001b[39m::filter()\n",
      "\u001b[31mx\u001b[39m \u001b[34mdplyr\u001b[39m::\u001b[32mlag()\u001b[39m      masks \u001b[34mstats\u001b[39m::lag()\n"
     ]
    }
   ],
   "source": [
    "library(corrr)\n",
    "library(tidyverse)"
   ]
  },
  {
   "cell_type": "code",
   "execution_count": 82,
   "metadata": {},
   "outputs": [
    {
     "data": {
      "image/png": "[encoded data removed]",
      "text/plain": [
       "plot without title"
      ]
     },
     "metadata": {},
     "output_type": "display_data"
    }
   ],
   "source": [
    "library(repr) # utilizzo il package \"repr\" per avere più controllo sulle dimensioni dei grafici\n",
    "    options(repr.plot.width=10, repr.plot.height=3.5)\n",
    "\n",
    "# network correlation plot\n",
    "cor_p %>% network_plot(min_cor = .1)"
   ]
  },
  {
   "cell_type": "markdown",
   "metadata": {},
   "source": [
    "Possiamo vedere nel grafico la media dei giorni di ritardo è influenzata solo lievemente dal valore annuale di acquisti che l'azienda compie da quel dato fornitore (i giorni di ritardo tendono ad aumentare con il valore di acquisto annuale)."
   ]
  },
  {
   "cell_type": "markdown",
   "metadata": {},
   "source": [
    "L'unica correlazione degna di nota è quella tra gli anni di esercizio del fornitore in azienda e il valore medio del componente, e in questo caso è in negativo, cioè al crescere del tempo che il fornitore collabora con l'azienda, il valore medio dei componenti acquistati diminuisce, questo può voler dire che il responsabile acquisti sta svolgendo un buon lavoro poichè nel tempo i prezzi tendono a calare, rispetto invece ai nuovi fornitori che hanno una media prezzi più alti. "
   ]
  },
  {
   "cell_type": "markdown",
   "metadata": {},
   "source": [
    "Esiste anche una lieve correlazine positiva tra l'età del fornitore che opera con l'azienda e il numero di fatture mediamente emesse durante l'anno; questo indica che all'aumentare dell'età amuntano lievemente il numero di acquisti da quel dato fornitore."
   ]
  },
  {
   "cell_type": "markdown",
   "metadata": {},
   "source": [
    "## Conclusioni"
   ]
  },
  {
   "cell_type": "markdown",
   "metadata": {},
   "source": [
    "Non è emersa nessuna dipendenza e/o correlazione tra i dati dei ritardi sui pagamenti con i ritardi sulle consegne. La altre correlazioni evinte dall'analisi, sono frutto di della normale atività aziendale."
   ]
  }
 ],
 "metadata": {
  "kernelspec": {
   "display_name": "R",
   "language": "R",
   "name": "ir"
  },
  "language_info": {
   "codemirror_mode": "r",
   "file_extension": ".r",
   "mimetype": "text/x-r-source",
   "name": "R",
   "pygments_lexer": "r",
   "version": "3.6.1"
  }
 },
 "nbformat": 4,
 "nbformat_minor": 4
}
