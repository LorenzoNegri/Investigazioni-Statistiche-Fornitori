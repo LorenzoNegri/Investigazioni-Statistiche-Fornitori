{
 "cells": [
  {
   "cell_type": "markdown",
   "metadata": {},
   "source": [
    "# ANOVA Analisi della varianza"
   ]
  },
  {
   "cell_type": "markdown",
   "metadata": {},
   "source": [
    "## La scelta tra fertilizzanti proposti dal fornitore"
   ]
  },
  {
   "cell_type": "markdown",
   "metadata": {},
   "source": [
    "Un azienda di fertilizzanti ha sviluppato tre nuovi tipi di fertilizzanti universali e, dopo aver eseguito delle ricerche scientifiche, affermano che possono essere tranquillamente utilizzati allo stesso modo per la crescita di qualisasi tipo di raccolto. Dichiara quindi che non fa differenza l'acquisto di uno piuttosto che l'altro e che quindi propone di vendere il fertilizzante n°2 con uno sconto del 10%."
   ]
  },
  {
   "cell_type": "markdown",
   "metadata": {},
   "source": [
    "A garanzia di quello che dichara, ci viene fornito un file che rappresenta i dati di sei differenti raccolti espressi in g/m^2 per ogni tipo di fertilizzante utilizzato. Dobbiamo stabilire con un livello di significatività dello 0.05 se la media dei raccolti per i tre tipi di fertilizzanti è effettivamente la stessa come affermato dal fornitore. Cioè che non fa differenza acquistare l'uno piuttosto che l'altro e che quindi il fertilizzante n°2 con uno sconto del 10%, possa essere un buon affare."
   ]
  },
  {
   "cell_type": "code",
   "execution_count": 2,
   "metadata": {},
   "outputs": [],
   "source": [
    "# comincio con inizializzare le librerie e importare il file\n",
    "library(RCurl)  # prende il file dal link\n",
    "library(ggplot2)\n",
    "\n",
    "fer_file <- getURL(\"https://raw.githubusercontent.com/LorenzoNegri/Investigazioni-Statistiche-Fornitori/master/ANOVA%20Analisi%20della%20varianza/fertilizers.csv\")\n",
    "fer <- read.csv(text = fer_file)"
   ]
  },
  {
   "cell_type": "code",
   "execution_count": 3,
   "metadata": {},
   "outputs": [
    {
     "data": {
      "text/html": [
       "<table>\n",
       "<caption>A data.frame: 6 × 3</caption>\n",
       "<thead>\n",
       "\t<tr><th scope=col>fertilizer1</th><th scope=col>fertilizer2</th><th scope=col>fertilizer3</th></tr>\n",
       "\t<tr><th scope=col>&lt;int&gt;</th><th scope=col>&lt;int&gt;</th><th scope=col>&lt;int&gt;</th></tr>\n",
       "</thead>\n",
       "<tbody>\n",
       "\t<tr><td>62</td><td>54</td><td>48</td></tr>\n",
       "\t<tr><td>62</td><td>56</td><td>62</td></tr>\n",
       "\t<tr><td>90</td><td>58</td><td>92</td></tr>\n",
       "\t<tr><td>42</td><td>36</td><td>96</td></tr>\n",
       "\t<tr><td>84</td><td>72</td><td>92</td></tr>\n",
       "\t<tr><td>64</td><td>34</td><td>80</td></tr>\n",
       "</tbody>\n",
       "</table>\n"
      ],
      "text/latex": [
       "A data.frame: 6 × 3\n",
       "\\begin{tabular}{r|lll}\n",
       " fertilizer1 & fertilizer2 & fertilizer3\\\\\n",
       " <int> & <int> & <int>\\\\\n",
       "\\hline\n",
       "\t 62 & 54 & 48\\\\\n",
       "\t 62 & 56 & 62\\\\\n",
       "\t 90 & 58 & 92\\\\\n",
       "\t 42 & 36 & 96\\\\\n",
       "\t 84 & 72 & 92\\\\\n",
       "\t 64 & 34 & 80\\\\\n",
       "\\end{tabular}\n"
      ],
      "text/markdown": [
       "\n",
       "A data.frame: 6 × 3\n",
       "\n",
       "| fertilizer1 &lt;int&gt; | fertilizer2 &lt;int&gt; | fertilizer3 &lt;int&gt; |\n",
       "|---|---|---|\n",
       "| 62 | 54 | 48 |\n",
       "| 62 | 56 | 62 |\n",
       "| 90 | 58 | 92 |\n",
       "| 42 | 36 | 96 |\n",
       "| 84 | 72 | 92 |\n",
       "| 64 | 34 | 80 |\n",
       "\n"
      ],
      "text/plain": [
       "  fertilizer1 fertilizer2 fertilizer3\n",
       "1 62          54          48         \n",
       "2 62          56          62         \n",
       "3 90          58          92         \n",
       "4 42          36          96         \n",
       "5 84          72          92         \n",
       "6 64          34          80         "
      ]
     },
     "metadata": {},
     "output_type": "display_data"
    }
   ],
   "source": [
    "fer"
   ]
  },
  {
   "cell_type": "code",
   "execution_count": 4,
   "metadata": {},
   "outputs": [
    {
     "data": {
      "text/plain": [
       "  fertilizer1     fertilizer2     fertilizer3   \n",
       " Min.   :42.00   Min.   :34.00   Min.   :48.00  \n",
       " 1st Qu.:62.00   1st Qu.:40.50   1st Qu.:66.50  \n",
       " Median :63.00   Median :55.00   Median :86.00  \n",
       " Mean   :67.33   Mean   :51.67   Mean   :78.33  \n",
       " 3rd Qu.:79.00   3rd Qu.:57.50   3rd Qu.:92.00  \n",
       " Max.   :90.00   Max.   :72.00   Max.   :96.00  "
      ]
     },
     "metadata": {},
     "output_type": "display_data"
    }
   ],
   "source": [
    "summary(fer)"
   ]
  },
  {
   "cell_type": "markdown",
   "metadata": {},
   "source": [
    "A prima vista pare che vi siano delle differenze tra i fertilizzanti. Ma i dati sono pochi e le differenze potrebbero essere dovuto al caso."
   ]
  },
  {
   "cell_type": "markdown",
   "metadata": {},
   "source": [
    "## Analisi della varianza"
   ]
  },
  {
   "cell_type": "markdown",
   "metadata": {},
   "source": [
    "Cerchiamo ora di capire se come dichiarato dal fornitore, i fertilizzanti sono efficaci allo stesso modo nel far crescere i raccolti di diverso tipo.  Ovvero che i dati hanno la stessa distribuzione stocastica, e che le differenze osservate tra i fertilizzanti siano dovute solo al caso. "
   ]
  },
  {
   "cell_type": "code",
   "execution_count": 5,
   "metadata": {},
   "outputs": [
    {
     "data": {
      "text/plain": [
       "            Df Sum Sq Mean Sq F value Pr(>F)  \n",
       "fertil       2   2155  1077.6   4.959 0.0319 *\n",
       "livelli      5   2239   447.8   2.061 0.1547  \n",
       "Residuals   10   2173   217.3                 \n",
       "---\n",
       "Signif. codes:  0 '***' 0.001 '**' 0.01 '*' 0.05 '.' 0.1 ' ' 1"
      ]
     },
     "metadata": {},
     "output_type": "display_data"
    }
   ],
   "source": [
    "racc = c(t(as.matrix(fer))) # converto i dati del raccolo nel file in un vettore (solo i numeri)\n",
    "f = c(\"fertilizzante_1\", \"fertilizzante_2\", \"fertilizzante_3\") # creo i nomi dei coefficienti da assegnare al vettore\n",
    "k = 3; n = 6 \n",
    "fertil = gl(k, 1, n*k, factor(f)) # assegno i coefficienti fertilizzanti in base al numero di livelli \n",
    "livelli = gl(n, k, k*n) # genero i livelli corrispondenti ai 6 tipi di raccolto in base al numero di fattori\n",
    "av = aov(racc ~ fertil + livelli) # \n",
    "summary(av)"
   ]
  },
  {
   "cell_type": "markdown",
   "metadata": {},
   "source": [
    "Il p-value del risultato del test(\\*) è inferiore del livello di significatività da noi assegnato (0.05 = probabilmente significativo), si evince che possiamo rifiutare l'ipotesi che il fornitore abbia ragione e affermare che i fertilizzanti hanno una resa significativamente differente sulla crescita del raccolto:"
   ]
  },
  {
   "cell_type": "code",
   "execution_count": 6,
   "metadata": {},
   "outputs": [
    {
     "data": {
      "image/png": "[encoded data removed]",
      "text/plain": [
       "plot without title"
      ]
     },
     "metadata": {},
     "output_type": "display_data"
    }
   ],
   "source": [
    "fer_.df <- data.frame(racc, fertil)\n",
    "ggplot(fer_.df, aes(x = fertil, y = racc)) +\n",
    "  geom_boxplot(fill = \"grey80\", colour = \"blue\") +\n",
    "  scale_x_discrete() +\n",
    "  ylab(\"Raccolto misto in g/m^2\")"
   ]
  },
  {
   "cell_type": "markdown",
   "metadata": {},
   "source": [
    "Dal grafico in alto possiamo vedere come la resa del fertilizzante n°2 sia nettamente inferiore agli altri due."
   ]
  },
  {
   "cell_type": "markdown",
   "metadata": {},
   "source": [
    "## Conclusioni"
   ]
  },
  {
   "cell_type": "markdown",
   "metadata": {},
   "source": [
    "Per conlcudere si consiglia di rifiutare l'offerta del fornitore, oppure negoziare l'acquisto con uno sconto molto maggiore rispetto a quanto proposto."
   ]
  },
  {
   "cell_type": "code",
   "execution_count": 7,
   "metadata": {},
   "outputs": [
    {
     "name": "stderr",
     "output_type": "stream",
     "text": [
      "\n",
      "Attaching package: 'psych'\n",
      "\n",
      "The following objects are masked from 'package:ggplot2':\n",
      "\n",
      "    %+%, alpha\n",
      "\n"
     ]
    }
   ],
   "source": [
    "library(psych) # per statistiche descrittive\n",
    "s <- describe(fer) "
   ]
  },
  {
   "cell_type": "code",
   "execution_count": 8,
   "metadata": {},
   "outputs": [],
   "source": [
    "# calcolo la resa dei fertilizzanti secondo i dati forniti\n",
    "resa_1 = ((s[1,3]+s[1,5])/2)\n",
    "resa_2 = ((s[2,3]+s[2,5])/2)\n",
    "resa_3 = ((s[3,3]+s[3,5])/2)"
   ]
  },
  {
   "cell_type": "markdown",
   "metadata": {},
   "source": [
    "Se i fertilizzanti costano all'incirca allo stesso modo, il valore di sconto in base alla resa del fertilizzante n°2 rispetto a quello più performante n°3 lo calcoliamo così:"
   ]
  },
  {
   "cell_type": "code",
   "execution_count": 9,
   "metadata": {},
   "outputs": [
    {
     "name": "stdout",
     "output_type": "stream",
     "text": [
      "lo sconto sull'acquisto deve essere superiore al : 35 %"
     ]
    }
   ],
   "source": [
    "cat(\"lo sconto sull'acquisto deve essere superiore al :\", round(1-(resa_2/resa_3),2)*100,\"%\")"
   ]
  }
 ],
 "metadata": {
  "kernelspec": {
   "display_name": "R",
   "language": "R",
   "name": "ir"
  },
  "language_info": {
   "codemirror_mode": "r",
   "file_extension": ".r",
   "mimetype": "text/x-r-source",
   "name": "R",
   "pygments_lexer": "r",
   "version": "3.6.1"
  }
 },
 "nbformat": 4,
 "nbformat_minor": 4
}
